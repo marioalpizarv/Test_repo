{
 "cells": [
  {
   "cell_type": "markdown",
   "id": "667c15d0",
   "metadata": {},
   "source": [
    "**Exercise 2: create a markdown cell with the title of the notebook**"
   ]
  },
  {
   "cell_type": "markdown",
   "id": "1cfe5f60",
   "metadata": {},
   "source": [
    "# Data Science Tools and Ecosystem"
   ]
  },
  {
   "cell_type": "markdown",
   "id": "1bc9ba62",
   "metadata": {},
   "source": [
    "**Exercise 3: create a markdown cell for an introduction**"
   ]
  },
  {
   "cell_type": "markdown",
   "id": "6b7395c7",
   "metadata": {},
   "source": [
    "In this notebook, a summary about Data Science Tools and Ecosystem will be made."
   ]
  },
  {
   "cell_type": "markdown",
   "id": "5f31b3c9",
   "metadata": {},
   "source": [
    "**Exercise 4: create a markdown cell to list data science languages**"
   ]
  },
  {
   "cell_type": "markdown",
   "id": "22cb5b01",
   "metadata": {},
   "source": [
    "Some of the most popular languages for Data Science are:\n",
    "\n",
    "1. Python\n",
    "2. R\n",
    "3. SQL"
   ]
  },
  {
   "cell_type": "markdown",
   "id": "3f9cc0f4",
   "metadata": {},
   "source": [
    "**Exercise 5: create a markdown cell to list data science libraries**"
   ]
  },
  {
   "cell_type": "markdown",
   "id": "65e2f2d9",
   "metadata": {},
   "source": [
    "Some of the widely used data science libraries include:\n",
    "\n",
    "1. Pandas\n",
    "2. Matplotlib\n",
    "3. Numpy"
   ]
  },
  {
   "cell_type": "markdown",
   "id": "a3c0b015",
   "metadata": {},
   "source": [
    "**Exercise 6: create a markdown cell with a table of data science tools**"
   ]
  },
  {
   "cell_type": "markdown",
   "id": "fe7a699c",
   "metadata": {},
   "source": [
    "\n",
    "| Data Science Tools |\n",
    "| ----------- |\n",
    "| Jupyter Notebook |\n",
    "| RStudio |\n",
    "| GitHub  |"
   ]
  },
  {
   "cell_type": "markdown",
   "id": "903402d8",
   "metadata": {},
   "source": [
    "**Exercise 7: create a markdown cell introducing arithmetic expression examples**"
   ]
  },
  {
   "cell_type": "markdown",
   "id": "92015204",
   "metadata": {},
   "source": [
    "### Below are a few examples of arithmeric expressions in a markdown cell:\n",
    "\n",
    "- 5 + 5 = 10\n",
    "- y = mx + b\n",
    "- ax<sup>2</sup> + bx + c = 0"
   ]
  },
  {
   "cell_type": "markdown",
   "id": "5663823a",
   "metadata": {},
   "source": [
    "**Exercise 8: create a code cell to add and multiply numbers**"
   ]
  },
  {
   "cell_type": "code",
   "execution_count": 2,
   "id": "881f4f17",
   "metadata": {},
   "outputs": [
    {
     "data": {
      "text/plain": [
       "17"
      ]
     },
     "execution_count": 2,
     "metadata": {},
     "output_type": "execute_result"
    }
   ],
   "source": [
    "# This is a simple arithmetic expression to multiply then add integers\n",
    "\n",
    "(3*4)+5"
   ]
  },
  {
   "cell_type": "markdown",
   "id": "ad7f1487",
   "metadata": {},
   "source": [
    "**Exercise 9: create a code cell to convert minutes to hours**"
   ]
  },
  {
   "cell_type": "code",
   "execution_count": 5,
   "id": "ae821c20",
   "metadata": {},
   "outputs": [
    {
     "name": "stdout",
     "output_type": "stream",
     "text": [
      "200 minutes are 3.3333333333333335 hours.\n"
     ]
    }
   ],
   "source": [
    "# This will convert 200 minutes to hours by dividing by 60\n",
    "\n",
    "minutes = 200\n",
    "hours = minutes/60\n",
    "\n",
    "print('200 minutes are '+str(hours)+' hours.')"
   ]
  },
  {
   "cell_type": "markdown",
   "id": "a89a6a08",
   "metadata": {},
   "source": [
    "**Exercise 10: insert a markdown cell to list objectives**"
   ]
  },
  {
   "cell_type": "markdown",
   "id": "b66645f8",
   "metadata": {},
   "source": [
    "**Objectives:**\n",
    "\n",
    "- Create a markdown cell to list data science languages\n",
    "- Create a table in a markdown cell containing data science tools\n",
    "- Create a code cell to convert minutes to hours"
   ]
  },
  {
   "cell_type": "markdown",
   "id": "338da3e9",
   "metadata": {},
   "source": [
    "**Exercise 11: create a markdown cell to indicate the author's n**"
   ]
  }
 ],
 "metadata": {
  "kernelspec": {
   "display_name": "Python 3 (ipykernel)",
   "language": "python",
   "name": "python3"
  },
  "language_info": {
   "codemirror_mode": {
    "name": "ipython",
    "version": 3
   },
   "file_extension": ".py",
   "mimetype": "text/x-python",
   "name": "python",
   "nbconvert_exporter": "python",
   "pygments_lexer": "ipython3",
   "version": "3.9.12"
  }
 },
 "nbformat": 4,
 "nbformat_minor": 5
}
